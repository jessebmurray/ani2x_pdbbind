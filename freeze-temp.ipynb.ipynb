{
 "cells": [
  {
   "cell_type": "code",
   "execution_count": null,
   "metadata": {},
   "outputs": [],
   "source": [
    "# [f for f in model_pre['H'][:5].named_parameters()]\n",
    "# model_pre['H'][:5].state_dict()\n",
    "# layer = torch.nn.Linear(in_features=160, out_features=100)\n",
    "# torch.nn.Sequential(model_pre['H'][:5], layer)\n",
    "# [f for f in model_pre.named_parameters()]"
   ]
  },
  {
   "cell_type": "code",
   "execution_count": null,
   "metadata": {},
   "outputs": [],
   "source": [
    "# model_pre['H'][-1].weight.requires_grad = False\n",
    "# model_pre['H'][-1].bias.requires_grad\n",
    "# [f for f in model_pre.named_parameters()]\n",
    "# model_pre.state_dict().keys()\n",
    "\n",
    "# torch.load('./results_pre/best.pth', map_location=torch.device('cpu'))\n"
   ]
  }
 ],
 "metadata": {
  "language_info": {
   "name": "python"
  },
  "orig_nbformat": 4
 },
 "nbformat": 4,
 "nbformat_minor": 2
}
